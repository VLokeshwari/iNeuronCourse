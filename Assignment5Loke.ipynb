{
 "cells": [
  {
   "cell_type": "markdown",
   "metadata": {},
   "source": [
    "1. What does the code for an empty dictionary look like?\n",
    "\n",
    "Answer: The code for an empty dictionary look like: item ={} or item = dict()\n",
    "\n",
    "2. What does a dictionary value with a key 'foo' and a value 42 look like?\n",
    "\n",
    "Answer: item = {‘foo’:42”} in this way the key ‘foo’ and value 42 look like\n",
    "\n",
    "3. What is the main difference between a dictionary and a list?\n",
    "\n",
    "Answer: \n",
    "\n",
    "LIST\t                                                            DICTIONARY\n",
    "\n",
    "List is a collection of index values pairs as that of array in c++.\tDictionary is a hashed structure of Key and Value \n",
    "\n",
    "pairs.\n",
    "\n",
    "List is created by placing elements in [] separated by commas “,”.\tDictionary is created by placing elements in {} as \n",
    "\n",
    "“key”: “value”, each key value pair is separated by commas “,”.\n",
    "\n",
    "The indices of list are integers starting from 0.\t                The keys of dictionary can be of any data type.\n",
    "\n",
    "The elements are accessed via indices.\t                             The elements are accessed via key-values.\n",
    "\n",
    "The order of the elements entered are maintained\tThere is no guarantee for maintain order.\n",
    "\n",
    "4. What happens if you try to access spam['foo'] if spam is {'bar': 100}?\n",
    "\n"
   ]
  },
  {
   "cell_type": "code",
   "execution_count": 1,
   "metadata": {},
   "outputs": [
    {
     "ename": "SyntaxError",
     "evalue": "invalid syntax (<ipython-input-1-a3f4ebff5fb0>, line 3)",
     "output_type": "error",
     "traceback": [
      "\u001b[1;36m  File \u001b[1;32m\"<ipython-input-1-a3f4ebff5fb0>\"\u001b[1;36m, line \u001b[1;32m3\u001b[0m\n\u001b[1;33m    spam{'bar':100}\u001b[0m\n\u001b[1;37m        ^\u001b[0m\n\u001b[1;31mSyntaxError\u001b[0m\u001b[1;31m:\u001b[0m invalid syntax\n"
     ]
    }
   ],
   "source": [
    "#Answer: It raises an error called KeyError.\n",
    "\n",
    "spam{'bar':100}\n",
    "spam['foo']"
   ]
  },
  {
   "cell_type": "markdown",
   "metadata": {},
   "source": [
    "5. If a dictionary is stored in spam, what is the difference between the expressions 'cat' in spam and 'cat' in spam.keys()?\n",
    "\n",
    "Answer: There is no difference between the expressions. In ‘cat’ in spam checks whether cat key is present in spam or not. \n",
    "\n",
    "In ‘cat’ in spam.keys() also checks whether cat key is present in spam or not.\n",
    "\n",
    "6. If a dictionary is stored in spam, what is the difference between the expressions 'cat' in spam and 'cat' in spam.values()?\n",
    "\n",
    "Answer: Here the difference between the given expressions is: in ‘cat’ in spam checks whether cat key is present in spam or \n",
    "\n",
    "not. In ‘cat’ in spam.values() checks whether cat value is present in spam or not.\n",
    "\n"
   ]
  },
  {
   "cell_type": "markdown",
   "metadata": {},
   "source": [
    "7. What is a shortcut for the following code?\n",
    "if 'color' not in spam:\n",
    "\n",
    "     spam['color'] = 'black'\n",
    "\n",
    "Answer:  The shortcut code for above code is : spam.setdefault(‘color’,’black’)\n",
    "\n",
    "\n"
   ]
  },
  {
   "cell_type": "markdown",
   "metadata": {},
   "source": [
    "8. What module and function can be used to “pretty print” dictionary values?\n",
    "\n",
    "Answer: Module and function is pprint.pprint()\n"
   ]
  },
  {
   "cell_type": "code",
   "execution_count": null,
   "metadata": {},
   "outputs": [],
   "source": []
  }
 ],
 "metadata": {
  "kernelspec": {
   "display_name": "Python 3",
   "language": "python",
   "name": "python3"
  },
  "language_info": {
   "codemirror_mode": {
    "name": "ipython",
    "version": 3
   },
   "file_extension": ".py",
   "mimetype": "text/x-python",
   "name": "python",
   "nbconvert_exporter": "python",
   "pygments_lexer": "ipython3",
   "version": "3.8.5"
  }
 },
 "nbformat": 4,
 "nbformat_minor": 4
}
