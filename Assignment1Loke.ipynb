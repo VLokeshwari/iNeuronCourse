{
 "cells": [
  {
   "cell_type": "markdown",
   "metadata": {},
   "source": [
    "1. What are the differences between operators and values in the following?\n",
    "*\n",
    "'hello'\n",
    "-87.8\n",
    "-\n",
    "/\n",
    "+\n",
    "6\n",
    "\n",
    "Answer:\n",
    "\n",
    "Operators                                Values\n",
    "\n",
    "             *\t\t\t\t‘hello’\n",
    "          \n",
    "             - \t\t\t    -87.8\n",
    "             \n",
    "             /\n",
    "             \n",
    "             +\t\t\t\t 6\n",
    "\n",
    "2. What is the difference between string and variable?\n",
    "spam\n",
    "'spam'\n",
    "\n",
    "Answer:\n",
    "\n",
    "String \t\t\tVariable\n",
    "\n",
    "‘spam’\t\t\tspam\n",
    "\n",
    "3. Describe three different data forms.\n",
    "\n",
    "Answer:\n",
    "\n",
    "The three data types are \n",
    "    \n",
    "    1.\tInteger:  we use numeric values from ---- -2,-1,0,1,2,-----\n",
    "    \n",
    "    2.\tFloating point: here we use decimal values like 45.0003,34.780\n",
    "    \n",
    "    3.\tString: in this data type we will use strings like characters, words, sentences, and alpha numeric values \n",
    "    \n",
    "        ex:“hello”, ‘c’, “dhfoh23”.\n",
    "\n"
   ]
  },
  {
   "cell_type": "markdown",
   "metadata": {},
   "source": [
    "4. What makes up an expression? What are the functions of all expressions?\n",
    "\n",
    "Answer:  The combination of variables, operations, and values which gives a result is called an expression. Example: a+b, \n",
    "\n",
    "4+5=9\n",
    "\n",
    "5. In this chapter, assignment statements such as spam = 10 were added. What's the difference between a declaration and an \n",
    "\n",
    "expression?\n",
    "\n",
    "Answer: Declaration means binding a variable to a data type. But in python declaration of a variable is not required \n",
    "\n",
    "because when we give a=10 it automatically declare a is an integer type.\n",
    "\n",
    "Expression means assigning  a value to a variable like b=343\n",
    "\n"
   ]
  },
  {
   "cell_type": "markdown",
   "metadata": {},
   "source": [
    "6. After running the following code, what does the variable bacon contain?\n",
    "\n",
    "bacon = 22\n",
    "\n",
    "bacon + 1\n",
    "\n",
    "Answer:\n",
    "\n",
    "The variable bacon contains 22 only, \n",
    "\n"
   ]
  },
  {
   "cell_type": "code",
   "execution_count": 1,
   "metadata": {},
   "outputs": [
    {
     "data": {
      "text/plain": [
       "22"
      ]
     },
     "execution_count": 1,
     "metadata": {},
     "output_type": "execute_result"
    }
   ],
   "source": [
    "bacon =22\n",
    "bacon+1\n",
    "bacon\n",
    "\n",
    "\n"
   ]
  },
  {
   "cell_type": "markdown",
   "metadata": {},
   "source": [
    "7. What should the values of the following two terms be?\n"
   ]
  },
  {
   "cell_type": "code",
   "execution_count": 2,
   "metadata": {},
   "outputs": [
    {
     "data": {
      "text/plain": [
       "'spamspamspam'"
      ]
     },
     "execution_count": 2,
     "metadata": {},
     "output_type": "execute_result"
    }
   ],
   "source": [
    "'spam' + 'spamspam'\n",
    "'spam' * 3\n",
    "\n",
    "\n"
   ]
  },
  {
   "cell_type": "markdown",
   "metadata": {},
   "source": [
    "8. Why is it that eggs is a true variable name but 100 is not?\n",
    "\n",
    "Answer: eggs is a true variable because every variable want to start with an alphabet but in 100 the starting the variable is in numeric which violets the rules of variables.\n",
    "\n",
    "9. Which of the following three functions may be used to convert a value to an integer, a floating-point number, or a string?\n",
    "\n",
    "Answer:  To convert a value the functions are int(), float(), str().\n",
    "\n",
    "\n",
    "10. What is the error caused by this expression? What would you do about it?\n",
    "\n"
   ]
  },
  {
   "cell_type": "code",
   "execution_count": 4,
   "metadata": {},
   "outputs": [
    {
     "ename": "TypeError",
     "evalue": "can only concatenate str (not \"int\") to str",
     "output_type": "error",
     "traceback": [
      "\u001b[1;31m---------------------------------------------------------------------------\u001b[0m",
      "\u001b[1;31mTypeError\u001b[0m                                 Traceback (most recent call last)",
      "\u001b[1;32m<ipython-input-4-68d99cac3266>\u001b[0m in \u001b[0;36m<module>\u001b[1;34m\u001b[0m\n\u001b[1;32m----> 1\u001b[1;33m \u001b[0mprint\u001b[0m\u001b[1;33m(\u001b[0m\u001b[1;34m'I have eaten '\u001b[0m \u001b[1;33m+\u001b[0m \u001b[1;36m99\u001b[0m \u001b[1;33m+\u001b[0m \u001b[1;34m' burritos.'\u001b[0m\u001b[1;33m)\u001b[0m\u001b[1;33m\u001b[0m\u001b[1;33m\u001b[0m\u001b[0m\n\u001b[0m\u001b[0;32m      2\u001b[0m \"\"\"\n\u001b[0;32m      3\u001b[0m \u001b[0mAnswer\u001b[0m\u001b[1;33m:\u001b[0m \u001b[0mThe\u001b[0m \u001b[0merror\u001b[0m \u001b[1;32min\u001b[0m \u001b[0mthe\u001b[0m \u001b[0mabove\u001b[0m \u001b[0mexpression\u001b[0m \u001b[1;32mis\u001b[0m \u001b[0mwe\u001b[0m \u001b[0mcan\u001b[0m \u001b[0monly\u001b[0m \u001b[0mconcatenate\u001b[0m \u001b[0mstrings\u001b[0m \u001b[1;32mnot\u001b[0m \u001b[0mintegers\u001b[0m \u001b[0mbut\u001b[0m \u001b[0mhere\u001b[0m \u001b[0mwe\u001b[0m \u001b[0mconcatenated\u001b[0m \u001b[0minteger\u001b[0m \u001b[0malso\u001b[0m \u001b[0mwhich\u001b[0m \u001b[0mgives\u001b[0m \u001b[0man\u001b[0m \u001b[0merror\u001b[0m\u001b[1;33m.\u001b[0m\u001b[1;33m\u001b[0m\u001b[1;33m\u001b[0m\u001b[0m\n\u001b[0;32m      4\u001b[0m \u001b[1;33m\u001b[0m\u001b[0m\n\u001b[0;32m      5\u001b[0m \u001b[0mTo\u001b[0m \u001b[0msolve\u001b[0m \u001b[0mthis\u001b[0m \u001b[0mwe\u001b[0m \u001b[0mcan\u001b[0m \u001b[0mdo\u001b[0m\u001b[1;33m:\u001b[0m\u001b[0;31m \u001b[0m\u001b[0;31m‘\u001b[0m\u001b[0mI\u001b[0m \u001b[0mhave\u001b[0m \u001b[0meaten\u001b[0m\u001b[0;31m’\u001b[0m \u001b[1;33m+\u001b[0m\u001b[0;31m \u001b[0m\u001b[0;31m‘\u001b[0m\u001b[1;36m99\u001b[0m\u001b[0;31m’\u001b[0m \u001b[1;33m+\u001b[0m\u001b[0;31m \u001b[0m\u001b[0;31m‘\u001b[0m\u001b[0mburritos\u001b[0m\u001b[1;33m.\u001b[0m\u001b[0;31m’\u001b[0m  \u001b[0mBy\u001b[0m \u001b[0mdoing\u001b[0m \u001b[0mthis\u001b[0m \u001b[0mthe\u001b[0m \u001b[0mnumeric\u001b[0m \u001b[0mvalue\u001b[0m \u001b[0mwill\u001b[0m \u001b[0mbecome\u001b[0m \u001b[0mstring\u001b[0m \u001b[0mso\u001b[0m \u001b[0mwe\u001b[0m \u001b[0mcan\u001b[0m \u001b[0mconcatenate\u001b[0m \u001b[1;32mand\u001b[0m \u001b[0moutput\u001b[0m \u001b[1;32mis\u001b[0m\u001b[0;31m \u001b[0m\u001b[0;31m‘\u001b[0m\u001b[0mI\u001b[0m \u001b[0mhave\u001b[0m \u001b[0meaten\u001b[0m \u001b[1;36m99\u001b[0m \u001b[0mburritos\u001b[0m\u001b[1;33m.\u001b[0m\u001b[0;31m’\u001b[0m\u001b[1;33m.\u001b[0m\u001b[1;33m\u001b[0m\u001b[1;33m\u001b[0m\u001b[0m\n",
      "\u001b[1;31mTypeError\u001b[0m: can only concatenate str (not \"int\") to str"
     ]
    }
   ],
   "source": [
    "print('I have eaten ' + 99 + ' burritos.')\n",
    "\"\"\"\n",
    "Answer: The error in the above expression is we can only concatenate strings not integers but here we concatenated integer also which gives an error.\n",
    "\n",
    "To solve this we can do: ‘I have eaten’ + ‘99’ + ‘burritos.’  By doing this the numeric value will become string so we can concatenate and output is ‘I have eaten 99 burritos.’.\n",
    "\n",
    "\"\"\"\n"
   ]
  },
  {
   "cell_type": "code",
   "execution_count": null,
   "metadata": {},
   "outputs": [],
   "source": []
  }
 ],
 "metadata": {
  "kernelspec": {
   "display_name": "Python 3",
   "language": "python",
   "name": "python3"
  },
  "language_info": {
   "codemirror_mode": {
    "name": "ipython",
    "version": 3
   },
   "file_extension": ".py",
   "mimetype": "text/x-python",
   "name": "python",
   "nbconvert_exporter": "python",
   "pygments_lexer": "ipython3",
   "version": "3.8.5"
  }
 },
 "nbformat": 4,
 "nbformat_minor": 4
}
