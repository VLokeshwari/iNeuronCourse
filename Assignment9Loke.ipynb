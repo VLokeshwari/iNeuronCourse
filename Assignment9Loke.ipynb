{
 "cells": [
  {
   "cell_type": "markdown",
   "metadata": {},
   "source": [
    "# Assignment 9\n",
    "\n",
    "### 1. What is a relative path relative to?\n",
    "\n",
    "A relative path refers to a location that is relative to a current directory. Relative paths make use of two special symbols, a dot (.) and a double-dot (..), which translate into the current directory and the parent directory. Double dots are used for moving up in the hierarchy. A single dot represents the current directory itself.\n",
    "\n",
    "In the example directory structure below, assume you used Windows Explorer to navigate to D:\\Data\\Shapefiles\\Soils.\n",
    "\n",
    "### 2. What does an absolute path start with?\n",
    "\n",
    "The absolute path is the full path to some place on your computer. The relative path is the path to some file with respect to your current working directory (PWD), which begins from the topmost directory.. For example: Absolute path: C:/users/admin/docs/stuff.txt.\n",
    "\n",
    "\n",
    "3. What does Path('C:/Users') / 'Al' evaluate to on Windows?\n",
    "\n",
    "4. What does 'C:/Users' / 'Al' evaluate to on Windows?\n",
    "\n",
    "5. What do the os.getcwd() and os.chdir() functions do?\n",
    "\n",
    "6. What are the . and .. folders?\n",
    "\n",
    "7. In C:\\bacon\\eggs\\spam.txt, which part is the dir name, and which part is the base name?\n",
    "\n",
    "8. What are the three “mode” arguments that can be passed to the open() function?\n",
    "\n",
    "9. What happens if an existing file is opened in write mode?\n",
    "\n",
    "10. What is the difference between the read() and readlines() methods?\n",
    "\n",
    "11. What data structure does a shelf value resemble?\n"
   ]
  },
  {
   "cell_type": "code",
   "execution_count": null,
   "metadata": {},
   "outputs": [],
   "source": []
  }
 ],
 "metadata": {
  "kernelspec": {
   "display_name": "Python 3",
   "language": "python",
   "name": "python3"
  },
  "language_info": {
   "codemirror_mode": {
    "name": "ipython",
    "version": 3
   },
   "file_extension": ".py",
   "mimetype": "text/x-python",
   "name": "python",
   "nbconvert_exporter": "python",
   "pygments_lexer": "ipython3",
   "version": "3.8.5"
  }
 },
 "nbformat": 4,
 "nbformat_minor": 4
}
