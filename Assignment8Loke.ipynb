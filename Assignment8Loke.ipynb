{
 "cells": [
  {
   "cell_type": "markdown",
   "metadata": {},
   "source": [
    "# Assignment 8\n",
    "\n",
    "### 1. Does PyInputPlus come with the Python Standard Library?\n",
    "\n"
   ]
  },
  {
   "cell_type": "markdown",
   "metadata": {},
   "source": [
    "PyInputPlus is not in the Python Standard Library"
   ]
  },
  {
   "cell_type": "markdown",
   "metadata": {},
   "source": [
    "### 2. Why is PyInputPlus commonly imported with import pyinputplus as pyip?\n",
    "\n",
    "You can import the module with import pyinputplus as pyip so that you can enter a shorter name when calling the module's functions. PyInputPlus has functions for entering a variety of input, including strings, numbers, dates, yes/no, True/False, emails, and files.\n",
    "\n",
    "### 3. What is the difference between inputInt() and inputFloat()?\n",
    "\n",
    "inputInt() : Accepts an integer value. This also takes additional parameters 'min', 'max', 'greaterThan' and 'lessThan' for bounds. Returns an int. inputFloat() : Accepts a floating-point numeric value.\n",
    "\n",
    "### 4. How can you ensure that the user enters a whole number between 0 and 99 using PyInputPlus?\n",
    "\n",
    "inputCustom(): This is a custom validation function in pyinputplue module. We don't hava a method or function like addsUpTo99() to add 0 to 99 values for that we create our own addsUpTo99() and pass it in to inputCustom() as like inputCustom(addsUpTo99).\n",
    "\n",
    "### 5. What is passed to the allowRegexes and blockRegexes keyword arguments?\n",
    "\n",
    "The allowRegexes and blockRegexes Keyword Arguments We can set a list of regex strings to the allowRegexes parameter to the PyInputPlus functions. In the code above, we allow phone numbers to be entered as the input value by setting a list of regex with the phone number regex to it.\n",
    "\n",
    "### 6. What does inputStr(limit=3) do if blank input is entered three times?\n",
    "\n",
    "inputStr() raises a TimeoutException exception. If the user answers incorrectly more than 3 times, it raises a RetryLimitException exception.\n",
    "\n",
    "### 7. What does inputStr(limit=3, default='hello') do if blank input is entered three times?"
   ]
  },
  {
   "cell_type": "code",
   "execution_count": 11,
   "metadata": {},
   "outputs": [
    {
     "name": "stdout",
     "output_type": "stream",
     "text": [
      "\n",
      "Blank values are not allowed.\n",
      "\n",
      "Blank values are not allowed.\n",
      "\n",
      "Blank values are not allowed.\n"
     ]
    }
   ],
   "source": [
    "import pyinputplus as py\n",
    "a=py.inputStr(limit=3, default = \"hello\")"
   ]
  },
  {
   "cell_type": "code",
   "execution_count": 12,
   "metadata": {},
   "outputs": [
    {
     "data": {
      "text/plain": [
       "'hello'"
      ]
     },
     "execution_count": 12,
     "metadata": {},
     "output_type": "execute_result"
    }
   ],
   "source": [
    "a"
   ]
  },
  {
   "cell_type": "markdown",
   "metadata": {},
   "source": [
    "It returns default value 'hello'"
   ]
  },
  {
   "cell_type": "code",
   "execution_count": null,
   "metadata": {},
   "outputs": [],
   "source": []
  },
  {
   "cell_type": "code",
   "execution_count": null,
   "metadata": {},
   "outputs": [],
   "source": []
  }
 ],
 "metadata": {
  "kernelspec": {
   "display_name": "Python 3",
   "language": "python",
   "name": "python3"
  },
  "language_info": {
   "codemirror_mode": {
    "name": "ipython",
    "version": 3
   },
   "file_extension": ".py",
   "mimetype": "text/x-python",
   "name": "python",
   "nbconvert_exporter": "python",
   "pygments_lexer": "ipython3",
   "version": "3.8.5"
  }
 },
 "nbformat": 4,
 "nbformat_minor": 4
}
