{
 "cells": [
  {
   "cell_type": "markdown",
   "metadata": {},
   "source": [
    "1. What are the Boolean data type's two values? How do you go about writing them?\n",
    "\n",
    "Answer: The Boolean Data type’s values are True and False. We are interested in whether certain conditions like true or \n",
    "\n",
    "false, then we use two values of data type called Boolean.\n",
    "\n",
    "2. What are the three different types of Boolean operators?\n",
    "\n",
    "Answer: The three different types of Boolean operators are:\n",
    "\n",
    "    1.\tand\n",
    "\n",
    "    2.\tor\n",
    "\n",
    "    3.\tnot\n",
    "\n",
    "3. Make a list of each Boolean operator's truth tables (i.e. every possible combination of Boolean values for the operator and what it evaluate ).\n",
    "\n",
    "\n",
    "Answer:                                                      BOOLEAN OPERATOR’s TRUTH TABLES\n",
    "\n",
    "AND Operator\n",
    "\n",
    "True\tTrue \tTrue\n",
    "\n",
    "True\tFalse\tFalse\n",
    "\n",
    "False\tTrue\tFalse\n",
    "\n",
    "False\tFalse\tFalse\n",
    "\n",
    "\n",
    "OR Operator\n",
    "\n",
    "True\tTrue \tTrue\n",
    "\n",
    "True\tFalse\tTrue\n",
    "\n",
    "False\tTrue\tTrue\n",
    "\n",
    "False\tFalse\tFalse\n",
    "\t\n",
    "             \n",
    "\n",
    "NOT Operator\n",
    "\n",
    "True\tFalse\n",
    "\n",
    "False\tTrue\n",
    "\t\n",
    "\n",
    "\n",
    "4. What are the values of the following expressions?\n",
    "\n",
    "(5 > 4) and (3 == 5)\n",
    "\n",
    "not (5 > 4)\n",
    "\n",
    "(5 > 4) or (3 == 5)\n",
    "\n",
    "not ((5 > 4) or (3 == 5))\n",
    "\n",
    "(True and True) and (True == False)\n",
    "\n",
    "(not False) or (not True)\n",
    "\n",
    "Answer:\n",
    "\n",
    "(5 > 4) and (3 == 5)\tFalse\n",
    "\n",
    "not (5 > 4)\tFalse\n",
    "\n",
    "(5 > 4) or (3 == 5)\tTrue\n",
    "\n",
    "not ((5 > 4) or (3 == 5))\tFalse\n",
    "\n",
    "(True and True) and (True == False)\tFalse\n",
    "\n",
    "(not False) or (not True)\tTrue\n",
    "\n",
    "\n",
    "5. What are the six different types of reference operators?\n",
    "\n",
    "Answer: The six different types of reference operators are:\n",
    "    \n",
    "    1.\t+=\n",
    "\n",
    "    2.\t-=\n",
    "\n",
    "    3.\t/=\n",
    "\n",
    "    4.\t>=\n",
    "\n",
    "    5.\t<=\n",
    "    \n",
    "    6.\t==\n",
    "\n",
    "6. How do you tell the difference between the equal to and assignment operators?\n",
    "\n",
    "Answer: \n",
    "\n",
    "=\t                                                ==\n",
    "\n",
    "It is Assignment Operator\t                        It is a Relational or Comparison Operator\n",
    "\n",
    "It is used for assigning the value to a variable\tIt is used for comparing two values. \n",
    "\n",
    "                                                    It returns 1 if both the values are equal otherwise returns 0\n",
    "\n",
    "Constant term cannot be placed on left hand side.   Example: 1=x which is invalid\tConstant term can be placed in the left \n",
    "\n",
    "hand side.  \n",
    "\n",
    "Example: 1==1 it is also valid \n",
    "\n",
    "7. Describe a condition and when you would use one.\n",
    "\n",
    "Answer: Condition is a Statement that are created by programmer in a program which evaluates an action and executes True or \n",
    "\n",
    "False values. Condition perform different computations depending on whether a programmer – specified Boolean Condition \n",
    "\n",
    "which gives True or False.\n",
    " \n"
   ]
  },
  {
   "cell_type": "markdown",
   "metadata": {},
   "source": [
    "8. Recognize the following three blocks in this code:"
   ]
  },
  {
   "cell_type": "code",
   "execution_count": 1,
   "metadata": {},
   "outputs": [
    {
     "name": "stdout",
     "output_type": "stream",
     "text": [
      "spam\n"
     ]
    }
   ],
   "source": [
    "\n",
    "spam = 0\n",
    "if spam == 10:\n",
    "    print('eggs')\n",
    "    if spam > 5:\n",
    "        print('bacon')\n",
    "    else:\n",
    "        print('ham')\n",
    "    print('spam')\n",
    "print('spam')\n"
   ]
  },
  {
   "cell_type": "markdown",
   "metadata": {},
   "source": [
    "9. Create a programme that prints. If 1 is stored in spam, prints Hello; if 2 is stored in spam, prints Howdy; and if 3 is stored in spam, prints Salutations! if there's something else in spam.\n"
   ]
  },
  {
   "cell_type": "code",
   "execution_count": 2,
   "metadata": {},
   "outputs": [
    {
     "name": "stdout",
     "output_type": "stream",
     "text": [
      "1\n",
      "Hello\n"
     ]
    }
   ],
   "source": [
    "\n",
    "spam=int(input())\n",
    "if spam ==1:\n",
    "    print(\"Hello\")\n",
    "elif spam ==2:\n",
    "    print(\"Howdy\")\n",
    "elif spam == 3:\n",
    "    print(\"Salutations\")\n",
    "else:\n",
    "    print(\"Wrong Input\")\n",
    "\n",
    "\n"
   ]
  },
  {
   "cell_type": "markdown",
   "metadata": {},
   "source": [
    "10.If your programme is stuck in an endless loop, what keys can you press?\n",
    "\n",
    "Answer: Press “ CTRL + C”  to come out of that infinite loop.\n",
    "\n",
    "11. How can you tell the difference between break and continue?\n",
    "\n",
    "Answer:\n",
    "\n",
    "Break and Continue\n",
    "\n",
    "Break statement resumes the control of the program to the end of loop made executional flow outside that loop.\tContinue \n",
    "\n",
    "statement resumes the control of the  program to the next iteration of that loop enclosing ‘continue’ and made  executional \n",
    "\n",
    "flow inside the loop again\n",
    "\n",
    "12. In a for loop, what is the difference between range(10), range(0, 10), and range(0, 10, 1)?\n",
    "\n",
    "Answer:  In a for loop the difference between range(10), range(0,10), and range(0,10,1) is\n",
    "\n",
    "range(10)\tFor loop iterates from 0 to 9 \n",
    "\n",
    "range(0,10)\tHere also for loop iterates from 0 to 9\n",
    "\n",
    "range(0,10,1)\tThis for loop range also iterates from 0 to 9\n",
    "\n",
    "\n"
   ]
  },
  {
   "cell_type": "markdown",
   "metadata": {},
   "source": [
    "13. Using a for loop, write a short programme that prints the numbers 1 to 10 Then, using a while loop, create an identical programme that prints the numbers 1 to 10."
   ]
  },
  {
   "cell_type": "code",
   "execution_count": 5,
   "metadata": {},
   "outputs": [
    {
     "name": "stdout",
     "output_type": "stream",
     "text": [
      "1\n",
      "2\n",
      "3\n",
      "4\n",
      "5\n",
      "6\n",
      "7\n",
      "8\n",
      "9\n",
      "10\n",
      "\n",
      "1\n",
      "2\n",
      "3\n",
      "4\n",
      "5\n",
      "6\n",
      "7\n",
      "8\n",
      "9\n",
      "10\n"
     ]
    }
   ],
   "source": [
    "#For loop program\n",
    "\n",
    "for i in range(1,11):\n",
    "    print(i)\n",
    "    \n",
    "\n",
    "print()\n",
    "\n",
    "#WHILE LOOP Program\n",
    "i=1\n",
    "while i<11:\n",
    "    print(i)\n",
    "    i=i+1\n",
    "\n",
    "\n",
    "\n"
   ]
  },
  {
   "cell_type": "markdown",
   "metadata": {},
   "source": [
    "14. If you had a bacon() function within a spam module, what would you call it after importing spam?\n",
    "\n",
    "Answer: We call the function bacon() within a spam module like spam.bacon()."
   ]
  },
  {
   "cell_type": "code",
   "execution_count": null,
   "metadata": {},
   "outputs": [],
   "source": []
  }
 ],
 "metadata": {
  "kernelspec": {
   "display_name": "Python 3",
   "language": "python",
   "name": "python3"
  },
  "language_info": {
   "codemirror_mode": {
    "name": "ipython",
    "version": 3
   },
   "file_extension": ".py",
   "mimetype": "text/x-python",
   "name": "python",
   "nbconvert_exporter": "python",
   "pygments_lexer": "ipython3",
   "version": "3.8.5"
  }
 },
 "nbformat": 4,
 "nbformat_minor": 4
}
